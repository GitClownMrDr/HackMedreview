{
  "nbformat": 4,
  "nbformat_minor": 0,
  "metadata": {
    "colab": {
      "name": "Untitled0.ipynb",
      "provenance": [],
      "collapsed_sections": [],
      "authorship_tag": "ABX9TyMyh4OvFP82aKyiJVs7uFfa",
      "include_colab_link": true
    },
    "kernelspec": {
      "name": "python3",
      "display_name": "Python 3"
    },
    "language_info": {
      "name": "python"
    }
  },
  "cells": [
    {
      "cell_type": "markdown",
      "metadata": {
        "id": "view-in-github",
        "colab_type": "text"
      },
      "source": [
        "<a href=\"https://colab.research.google.com/github/GitClownMrDr/HackMedreview/blob/main/Untitled0.ipynb\" target=\"_parent\"><img src=\"https://colab.research.google.com/assets/colab-badge.svg\" alt=\"Open In Colab\"/></a>"
      ]
    },
    {
      "cell_type": "code",
      "execution_count": 98,
      "metadata": {
        "id": "kOEBpnKQWH8y"
      },
      "outputs": [],
      "source": [
        "import requests\n",
        "from bs4 import BeautifulSoup\n",
        "import pandas as pd\n",
        "import numpy as np"
      ]
    },
    {
      "cell_type": "code",
      "source": [
        "urls = [\"https://prodoctorov.ru/krasnodar/lpu/19703-gorodskaya-poliklinika-10/otzivi/\",\n",
        "        \"https://prodoctorov.ru/krasnodar/lpu/8613-poliklinika-skal/otzivi/\",\n",
        "        \"https://prodoctorov.ru/krasnodar/lpu/8848-gorodskaya-poliklinika-7/otzivi/\",\n",
        "        \"https://prodoctorov.ru/krasnodar/lpu/8845-gorodskaya-poliklinika-26/otzivi/\",\n",
        "        \"https://prodoctorov.ru/krasnodar/lpu/56067-poliklinika-kraevoy-bolnicy-na-repina/otzivi/\",\n",
        "        \"https://prodoctorov.ru/krasnodar/lpu/41639-poliklinika-16-na-artyushkova/otzivi/\",\n",
        "        \"https://prodoctorov.ru/krasnodar/lpu/8655-kraevoy-nefrologicheskiy-centr/otzivi/\",\n",
        "        \"https://prodoctorov.ru/krasnodar/lpu/8508-krasnodarskaya-poliklinika-yuzhnogo-okruzhnogo-medicinskogo-centra-fmba-rossii/otzivi/\",\n",
        "        ]\n",
        "text_test = []\n",
        "text_mark = []"
      ],
      "metadata": {
        "id": "RkSApCdLWUDS"
      },
      "execution_count": 172,
      "outputs": []
    },
    {
      "cell_type": "code",
      "source": [
        "for url in urls:\n",
        "  print(url)\n",
        "  r = requests.get(url)\n",
        "  soup = BeautifulSoup(r.text, 'lxml')\n",
        "  elements = soup.findAll('div', class_='b-review-card')\n",
        "  data = []\n",
        "  for element in elements:\n",
        "    comment_text = ''\n",
        "    comment = element.find('div', 'b-review-card__comment')\n",
        "    if (comment == None):\n",
        "      continue\n",
        "    comment_text = comment.text\n",
        "    mark = ''\n",
        "    mark = element.find('span','b-review-card__rate-name')\n",
        "    if (mark == None):\n",
        "      continue\n",
        "    mark = mark.text\n",
        "    data.append([comment_text, mark])\n",
        "  for element in data:\n",
        "     element[0]=element[0].replace('\\n', ' ')\n",
        "     element[0]=element[0].replace('  ', ' ')\n",
        "     element[1]=element[1].replace('\\n', ' ')\n",
        "     element[1]=element[1].replace(' ', '')\n",
        "     element[1]=element[1].replace('хорошо', 'отлично')\n",
        "     element[1]=element[1].replace('плохо', 'ужасно')\n",
        "     element[1]=element[1].replace('нормально', 'ужасно')\n",
        "     element[1] = 0.0 if element[1]=='ужасно' else 1.0\n",
        "\n",
        "  text_test.extend([element[0] for element in data])\n",
        "  text_mark.extend([element[1] for element in data])"
      ],
      "metadata": {
        "colab": {
          "base_uri": "https://localhost:8080/"
        },
        "id": "JstRRoFbDfZv",
        "outputId": "43e25bcb-ed21-48b1-998b-54ee071bda77"
      },
      "execution_count": 178,
      "outputs": [
        {
          "output_type": "stream",
          "name": "stdout",
          "text": [
            "https://prodoctorov.ru/krasnodar/lpu/19703-gorodskaya-poliklinika-10/otzivi/\n",
            "https://prodoctorov.ru/krasnodar/lpu/8613-poliklinika-skal/otzivi/\n",
            "https://prodoctorov.ru/krasnodar/lpu/8848-gorodskaya-poliklinika-7/otzivi/\n",
            "https://prodoctorov.ru/krasnodar/lpu/8845-gorodskaya-poliklinika-26/otzivi/\n",
            "https://prodoctorov.ru/krasnodar/lpu/56067-poliklinika-kraevoy-bolnicy-na-repina/otzivi/\n",
            "https://prodoctorov.ru/krasnodar/lpu/41639-poliklinika-16-na-artyushkova/otzivi/\n",
            "https://prodoctorov.ru/krasnodar/lpu/8655-kraevoy-nefrologicheskiy-centr/otzivi/\n",
            "https://prodoctorov.ru/krasnodar/lpu/8508-krasnodarskaya-poliklinika-yuzhnogo-okruzhnogo-medicinskogo-centra-fmba-rossii/otzivi/\n"
          ]
        }
      ]
    },
    {
      "cell_type": "code",
      "source": [
        "text_mark = np.array(text_mark)"
      ],
      "metadata": {
        "id": "Gs_MpOMp4vtq"
      },
      "execution_count": 185,
      "outputs": []
    },
    {
      "cell_type": "code",
      "source": [
        "from keras.preprocessing.text import Tokenizer"
      ],
      "metadata": {
        "id": "6NVMBe9xrh3-"
      },
      "execution_count": 186,
      "outputs": []
    },
    {
      "cell_type": "code",
      "source": [
        "from keras.models import Sequential\n",
        "from keras.layers import Dense, Dropout\n",
        "from sklearn.model_selection import train_test_split\n",
        "import matplotlib.pyplot as plt\n",
        "from sklearn.preprocessing import normalize\n",
        "import tensorflow as tf"
      ],
      "metadata": {
        "id": "1BkudoQOrkUs"
      },
      "execution_count": 187,
      "outputs": []
    },
    {
      "cell_type": "code",
      "source": [
        "tokenizer = Tokenizer(num_words=3000, \n",
        "                      filters='!\"#$%&()*+,-./:;<=>?@[\\\\]^_`{|}~\\t\\n', \n",
        "                      lower=True, \n",
        "                      split=' ', \n",
        "                      char_level=False)"
      ],
      "metadata": {
        "id": "0r4F3zO0uUfs"
      },
      "execution_count": 196,
      "outputs": []
    },
    {
      "cell_type": "code",
      "source": [
        "tokenizer.fit_on_texts(text_test)\n",
        "matrix = tokenizer.texts_to_matrix(text_test, 'count')\n",
        "matrix.shape"
      ],
      "metadata": {
        "colab": {
          "base_uri": "https://localhost:8080/"
        },
        "id": "xD5NVoSfwOUg",
        "outputId": "e6bdc707-31cb-4af2-8117-645b933a12d5"
      },
      "execution_count": 205,
      "outputs": [
        {
          "output_type": "execute_result",
          "data": {
            "text/plain": [
              "(1523, 3000)"
            ]
          },
          "metadata": {},
          "execution_count": 205
        }
      ]
    },
    {
      "cell_type": "code",
      "source": [
        "matrix"
      ],
      "metadata": {
        "colab": {
          "base_uri": "https://localhost:8080/"
        },
        "id": "jQYZV2Em8ouO",
        "outputId": "05364233-c8b3-49af-ee27-0439d0c6bf2a"
      },
      "execution_count": 206,
      "outputs": [
        {
          "output_type": "execute_result",
          "data": {
            "text/plain": [
              "array([[0., 0., 0., ..., 0., 0., 0.],\n",
              "       [0., 1., 0., ..., 0., 0., 0.],\n",
              "       [0., 3., 3., ..., 0., 0., 0.],\n",
              "       ...,\n",
              "       [0., 0., 0., ..., 0., 0., 0.],\n",
              "       [0., 0., 1., ..., 0., 0., 0.],\n",
              "       [0., 0., 0., ..., 0., 0., 0.]])"
            ]
          },
          "metadata": {},
          "execution_count": 206
        }
      ]
    },
    {
      "cell_type": "code",
      "source": [
        "model = Sequential()\n",
        "model.add(Dense(32, activation='relu'))\n",
        "model.add(Dropout(0.3))\n",
        "model.add(Dense(16, activation='relu'))\n",
        "model.add(Dense(1, activation='sigmoid'))\n",
        "model.compile(optimizer = tf.optimizers.RMSprop(0.001), \n",
        "                  loss='binary_crossentropy',\n",
        "                  metrics=['accuracy'])\n",
        "\n",
        "X = normalize(matrix)\n",
        "y = text_mark\n"
      ],
      "metadata": {
        "id": "x9vdYsjaxDJi"
      },
      "execution_count": 207,
      "outputs": []
    },
    {
      "cell_type": "code",
      "source": [
        "X_train, X_test, y_train, y_test = train_test_split(X, \n",
        "                                                    y,\n",
        "                                                    test_size=0.5)"
      ],
      "metadata": {
        "id": "EQnjvdWm0no5"
      },
      "execution_count": 208,
      "outputs": []
    },
    {
      "cell_type": "code",
      "source": [
        "epochs = 150\n",
        "batch_size = 100 "
      ],
      "metadata": {
        "id": "lV2PG-jM-UX7"
      },
      "execution_count": 209,
      "outputs": []
    },
    {
      "cell_type": "code",
      "source": [
        "history = model.fit(X_train, \n",
        "                    y_train, \n",
        "                    epochs=epochs, \n",
        "                    batch_size=batch_size,\n",
        "                    validation_data=(X_test, y_test))"
      ],
      "metadata": {
        "colab": {
          "base_uri": "https://localhost:8080/"
        },
        "id": "YiXgsoV41aAY",
        "outputId": "529f34a9-9877-44cd-ff2c-e977046f55e9"
      },
      "execution_count": 210,
      "outputs": [
        {
          "output_type": "stream",
          "name": "stdout",
          "text": [
            "Epoch 1/150\n",
            "8/8 [==============================] - 2s 103ms/step - loss: 0.6711 - accuracy: 0.7057 - val_loss: 0.6383 - val_accuracy: 0.8346\n",
            "Epoch 2/150\n",
            "8/8 [==============================] - 0s 20ms/step - loss: 0.6145 - accuracy: 0.8739 - val_loss: 0.5820 - val_accuracy: 0.9068\n",
            "Epoch 3/150\n",
            "8/8 [==============================] - 0s 23ms/step - loss: 0.5556 - accuracy: 0.9120 - val_loss: 0.5226 - val_accuracy: 0.9331\n",
            "Epoch 4/150\n",
            "8/8 [==============================] - 0s 34ms/step - loss: 0.4893 - accuracy: 0.9448 - val_loss: 0.4622 - val_accuracy: 0.9501\n",
            "Epoch 5/150\n",
            "8/8 [==============================] - 0s 24ms/step - loss: 0.4286 - accuracy: 0.9527 - val_loss: 0.4049 - val_accuracy: 0.9580\n",
            "Epoch 6/150\n",
            "8/8 [==============================] - 0s 25ms/step - loss: 0.3716 - accuracy: 0.9632 - val_loss: 0.3519 - val_accuracy: 0.9659\n",
            "Epoch 7/150\n",
            "8/8 [==============================] - 0s 25ms/step - loss: 0.3205 - accuracy: 0.9658 - val_loss: 0.3035 - val_accuracy: 0.9777\n",
            "Epoch 8/150\n",
            "8/8 [==============================] - 0s 18ms/step - loss: 0.2737 - accuracy: 0.9724 - val_loss: 0.2606 - val_accuracy: 0.9882\n",
            "Epoch 9/150\n",
            "8/8 [==============================] - 0s 20ms/step - loss: 0.2335 - accuracy: 0.9750 - val_loss: 0.2225 - val_accuracy: 0.9882\n",
            "Epoch 10/150\n",
            "8/8 [==============================] - 0s 12ms/step - loss: 0.1929 - accuracy: 0.9882 - val_loss: 0.1902 - val_accuracy: 0.9908\n",
            "Epoch 11/150\n",
            "8/8 [==============================] - 0s 10ms/step - loss: 0.1648 - accuracy: 0.9855 - val_loss: 0.1619 - val_accuracy: 0.9908\n",
            "Epoch 12/150\n",
            "8/8 [==============================] - 0s 17ms/step - loss: 0.1407 - accuracy: 0.9882 - val_loss: 0.1385 - val_accuracy: 0.9895\n",
            "Epoch 13/150\n",
            "8/8 [==============================] - 0s 10ms/step - loss: 0.1143 - accuracy: 0.9934 - val_loss: 0.1186 - val_accuracy: 0.9908\n",
            "Epoch 14/150\n",
            "8/8 [==============================] - 0s 10ms/step - loss: 0.0966 - accuracy: 0.9934 - val_loss: 0.1021 - val_accuracy: 0.9908\n",
            "Epoch 15/150\n",
            "8/8 [==============================] - 0s 14ms/step - loss: 0.0863 - accuracy: 0.9921 - val_loss: 0.0882 - val_accuracy: 0.9908\n",
            "Epoch 16/150\n",
            "8/8 [==============================] - 0s 11ms/step - loss: 0.0709 - accuracy: 0.9947 - val_loss: 0.0769 - val_accuracy: 0.9908\n",
            "Epoch 17/150\n",
            "8/8 [==============================] - 0s 12ms/step - loss: 0.0596 - accuracy: 0.9934 - val_loss: 0.0679 - val_accuracy: 0.9895\n",
            "Epoch 18/150\n",
            "8/8 [==============================] - 0s 11ms/step - loss: 0.0493 - accuracy: 0.9921 - val_loss: 0.0599 - val_accuracy: 0.9895\n",
            "Epoch 19/150\n",
            "8/8 [==============================] - 0s 11ms/step - loss: 0.0439 - accuracy: 0.9947 - val_loss: 0.0537 - val_accuracy: 0.9895\n",
            "Epoch 20/150\n",
            "8/8 [==============================] - 0s 12ms/step - loss: 0.0362 - accuracy: 0.9974 - val_loss: 0.0486 - val_accuracy: 0.9895\n",
            "Epoch 21/150\n",
            "8/8 [==============================] - 0s 10ms/step - loss: 0.0315 - accuracy: 0.9947 - val_loss: 0.0443 - val_accuracy: 0.9895\n",
            "Epoch 22/150\n",
            "8/8 [==============================] - 0s 11ms/step - loss: 0.0273 - accuracy: 0.9961 - val_loss: 0.0413 - val_accuracy: 0.9895\n",
            "Epoch 23/150\n",
            "8/8 [==============================] - 0s 13ms/step - loss: 0.0199 - accuracy: 0.9987 - val_loss: 0.0381 - val_accuracy: 0.9895\n",
            "Epoch 24/150\n",
            "8/8 [==============================] - 0s 11ms/step - loss: 0.0195 - accuracy: 0.9974 - val_loss: 0.0358 - val_accuracy: 0.9908\n",
            "Epoch 25/150\n",
            "8/8 [==============================] - 0s 10ms/step - loss: 0.0180 - accuracy: 0.9974 - val_loss: 0.0344 - val_accuracy: 0.9895\n",
            "Epoch 26/150\n",
            "8/8 [==============================] - 0s 11ms/step - loss: 0.0143 - accuracy: 0.9987 - val_loss: 0.0322 - val_accuracy: 0.9895\n",
            "Epoch 27/150\n",
            "8/8 [==============================] - 0s 11ms/step - loss: 0.0130 - accuracy: 0.9987 - val_loss: 0.0312 - val_accuracy: 0.9895\n",
            "Epoch 28/150\n",
            "8/8 [==============================] - 0s 14ms/step - loss: 0.0129 - accuracy: 0.9974 - val_loss: 0.0302 - val_accuracy: 0.9908\n",
            "Epoch 29/150\n",
            "8/8 [==============================] - 0s 11ms/step - loss: 0.0094 - accuracy: 0.9987 - val_loss: 0.0293 - val_accuracy: 0.9895\n",
            "Epoch 30/150\n",
            "8/8 [==============================] - 0s 11ms/step - loss: 0.0076 - accuracy: 1.0000 - val_loss: 0.0289 - val_accuracy: 0.9895\n",
            "Epoch 31/150\n",
            "8/8 [==============================] - 0s 11ms/step - loss: 0.0070 - accuracy: 1.0000 - val_loss: 0.0288 - val_accuracy: 0.9895\n",
            "Epoch 32/150\n",
            "8/8 [==============================] - 0s 10ms/step - loss: 0.0090 - accuracy: 0.9987 - val_loss: 0.0281 - val_accuracy: 0.9908\n",
            "Epoch 33/150\n",
            "8/8 [==============================] - 0s 11ms/step - loss: 0.0071 - accuracy: 0.9987 - val_loss: 0.0279 - val_accuracy: 0.9908\n",
            "Epoch 34/150\n",
            "8/8 [==============================] - 0s 14ms/step - loss: 0.0049 - accuracy: 1.0000 - val_loss: 0.0280 - val_accuracy: 0.9908\n",
            "Epoch 35/150\n",
            "8/8 [==============================] - 0s 11ms/step - loss: 0.0051 - accuracy: 1.0000 - val_loss: 0.0278 - val_accuracy: 0.9908\n",
            "Epoch 36/150\n",
            "8/8 [==============================] - 0s 10ms/step - loss: 0.0040 - accuracy: 1.0000 - val_loss: 0.0281 - val_accuracy: 0.9908\n",
            "Epoch 37/150\n",
            "8/8 [==============================] - 0s 10ms/step - loss: 0.0033 - accuracy: 1.0000 - val_loss: 0.0284 - val_accuracy: 0.9908\n",
            "Epoch 38/150\n",
            "8/8 [==============================] - 0s 11ms/step - loss: 0.0024 - accuracy: 1.0000 - val_loss: 0.0288 - val_accuracy: 0.9908\n",
            "Epoch 39/150\n",
            "8/8 [==============================] - 0s 11ms/step - loss: 0.0041 - accuracy: 0.9974 - val_loss: 0.0290 - val_accuracy: 0.9895\n",
            "Epoch 40/150\n",
            "8/8 [==============================] - 0s 10ms/step - loss: 0.0025 - accuracy: 1.0000 - val_loss: 0.0292 - val_accuracy: 0.9908\n",
            "Epoch 41/150\n",
            "8/8 [==============================] - 0s 10ms/step - loss: 0.0036 - accuracy: 0.9987 - val_loss: 0.0293 - val_accuracy: 0.9895\n",
            "Epoch 42/150\n",
            "8/8 [==============================] - 0s 11ms/step - loss: 0.0024 - accuracy: 1.0000 - val_loss: 0.0297 - val_accuracy: 0.9895\n",
            "Epoch 43/150\n",
            "8/8 [==============================] - 0s 11ms/step - loss: 0.0022 - accuracy: 1.0000 - val_loss: 0.0301 - val_accuracy: 0.9895\n",
            "Epoch 44/150\n",
            "8/8 [==============================] - 0s 11ms/step - loss: 0.0020 - accuracy: 1.0000 - val_loss: 0.0306 - val_accuracy: 0.9895\n",
            "Epoch 45/150\n",
            "8/8 [==============================] - 0s 13ms/step - loss: 0.0015 - accuracy: 1.0000 - val_loss: 0.0310 - val_accuracy: 0.9895\n",
            "Epoch 46/150\n",
            "8/8 [==============================] - 0s 12ms/step - loss: 0.0015 - accuracy: 1.0000 - val_loss: 0.0316 - val_accuracy: 0.9895\n",
            "Epoch 47/150\n",
            "8/8 [==============================] - 0s 11ms/step - loss: 9.5427e-04 - accuracy: 1.0000 - val_loss: 0.0320 - val_accuracy: 0.9895\n",
            "Epoch 48/150\n",
            "8/8 [==============================] - 0s 12ms/step - loss: 0.0012 - accuracy: 1.0000 - val_loss: 0.0326 - val_accuracy: 0.9895\n",
            "Epoch 49/150\n",
            "8/8 [==============================] - 0s 11ms/step - loss: 0.0011 - accuracy: 1.0000 - val_loss: 0.0333 - val_accuracy: 0.9895\n",
            "Epoch 50/150\n",
            "8/8 [==============================] - 0s 11ms/step - loss: 7.5906e-04 - accuracy: 1.0000 - val_loss: 0.0339 - val_accuracy: 0.9895\n",
            "Epoch 51/150\n",
            "8/8 [==============================] - 0s 12ms/step - loss: 0.0010 - accuracy: 1.0000 - val_loss: 0.0342 - val_accuracy: 0.9882\n",
            "Epoch 52/150\n",
            "8/8 [==============================] - 0s 11ms/step - loss: 9.5619e-04 - accuracy: 1.0000 - val_loss: 0.0346 - val_accuracy: 0.9895\n",
            "Epoch 53/150\n",
            "8/8 [==============================] - 0s 10ms/step - loss: 3.4477e-04 - accuracy: 1.0000 - val_loss: 0.0349 - val_accuracy: 0.9895\n",
            "Epoch 54/150\n",
            "8/8 [==============================] - 0s 11ms/step - loss: 6.9390e-04 - accuracy: 1.0000 - val_loss: 0.0353 - val_accuracy: 0.9895\n",
            "Epoch 55/150\n",
            "8/8 [==============================] - 0s 11ms/step - loss: 3.8657e-04 - accuracy: 1.0000 - val_loss: 0.0359 - val_accuracy: 0.9895\n",
            "Epoch 56/150\n",
            "8/8 [==============================] - 0s 11ms/step - loss: 5.6232e-04 - accuracy: 1.0000 - val_loss: 0.0364 - val_accuracy: 0.9895\n",
            "Epoch 57/150\n",
            "8/8 [==============================] - 0s 11ms/step - loss: 3.0429e-04 - accuracy: 1.0000 - val_loss: 0.0370 - val_accuracy: 0.9895\n",
            "Epoch 58/150\n",
            "8/8 [==============================] - 0s 12ms/step - loss: 3.6045e-04 - accuracy: 1.0000 - val_loss: 0.0377 - val_accuracy: 0.9895\n",
            "Epoch 59/150\n",
            "8/8 [==============================] - 0s 12ms/step - loss: 2.5400e-04 - accuracy: 1.0000 - val_loss: 0.0380 - val_accuracy: 0.9882\n",
            "Epoch 60/150\n",
            "8/8 [==============================] - 0s 12ms/step - loss: 3.1310e-04 - accuracy: 1.0000 - val_loss: 0.0388 - val_accuracy: 0.9869\n",
            "Epoch 61/150\n",
            "8/8 [==============================] - 0s 11ms/step - loss: 2.2840e-04 - accuracy: 1.0000 - val_loss: 0.0394 - val_accuracy: 0.9895\n",
            "Epoch 62/150\n",
            "8/8 [==============================] - 0s 12ms/step - loss: 1.8346e-04 - accuracy: 1.0000 - val_loss: 0.0401 - val_accuracy: 0.9895\n",
            "Epoch 63/150\n",
            "8/8 [==============================] - 0s 11ms/step - loss: 2.7257e-04 - accuracy: 1.0000 - val_loss: 0.0410 - val_accuracy: 0.9895\n",
            "Epoch 64/150\n",
            "8/8 [==============================] - 0s 11ms/step - loss: 2.5994e-04 - accuracy: 1.0000 - val_loss: 0.0415 - val_accuracy: 0.9869\n",
            "Epoch 65/150\n",
            "8/8 [==============================] - 0s 12ms/step - loss: 2.4463e-04 - accuracy: 1.0000 - val_loss: 0.0427 - val_accuracy: 0.9869\n",
            "Epoch 66/150\n",
            "8/8 [==============================] - 0s 12ms/step - loss: 2.0316e-04 - accuracy: 1.0000 - val_loss: 0.0427 - val_accuracy: 0.9895\n",
            "Epoch 67/150\n",
            "8/8 [==============================] - 0s 11ms/step - loss: 2.6577e-04 - accuracy: 1.0000 - val_loss: 0.0430 - val_accuracy: 0.9895\n",
            "Epoch 68/150\n",
            "8/8 [==============================] - 0s 12ms/step - loss: 1.2249e-04 - accuracy: 1.0000 - val_loss: 0.0435 - val_accuracy: 0.9895\n",
            "Epoch 69/150\n",
            "8/8 [==============================] - 0s 12ms/step - loss: 2.2763e-04 - accuracy: 1.0000 - val_loss: 0.0437 - val_accuracy: 0.9895\n",
            "Epoch 70/150\n",
            "8/8 [==============================] - 0s 13ms/step - loss: 6.4056e-05 - accuracy: 1.0000 - val_loss: 0.0437 - val_accuracy: 0.9895\n",
            "Epoch 71/150\n",
            "8/8 [==============================] - 0s 14ms/step - loss: 9.5708e-05 - accuracy: 1.0000 - val_loss: 0.0440 - val_accuracy: 0.9895\n",
            "Epoch 72/150\n",
            "8/8 [==============================] - 0s 11ms/step - loss: 1.0400e-04 - accuracy: 1.0000 - val_loss: 0.0453 - val_accuracy: 0.9908\n",
            "Epoch 73/150\n",
            "8/8 [==============================] - 0s 11ms/step - loss: 6.7534e-05 - accuracy: 1.0000 - val_loss: 0.0453 - val_accuracy: 0.9895\n",
            "Epoch 74/150\n",
            "8/8 [==============================] - 0s 11ms/step - loss: 6.2166e-05 - accuracy: 1.0000 - val_loss: 0.0456 - val_accuracy: 0.9895\n",
            "Epoch 75/150\n",
            "8/8 [==============================] - 0s 11ms/step - loss: 7.4043e-05 - accuracy: 1.0000 - val_loss: 0.0461 - val_accuracy: 0.9895\n",
            "Epoch 76/150\n",
            "8/8 [==============================] - 0s 18ms/step - loss: 5.1944e-05 - accuracy: 1.0000 - val_loss: 0.0466 - val_accuracy: 0.9895\n",
            "Epoch 77/150\n",
            "8/8 [==============================] - 0s 11ms/step - loss: 3.1055e-05 - accuracy: 1.0000 - val_loss: 0.0471 - val_accuracy: 0.9895\n",
            "Epoch 78/150\n",
            "8/8 [==============================] - 0s 11ms/step - loss: 4.0575e-05 - accuracy: 1.0000 - val_loss: 0.0476 - val_accuracy: 0.9895\n",
            "Epoch 79/150\n",
            "8/8 [==============================] - 0s 12ms/step - loss: 2.8271e-05 - accuracy: 1.0000 - val_loss: 0.0483 - val_accuracy: 0.9895\n",
            "Epoch 80/150\n",
            "8/8 [==============================] - 0s 11ms/step - loss: 2.8852e-05 - accuracy: 1.0000 - val_loss: 0.0490 - val_accuracy: 0.9895\n",
            "Epoch 81/150\n",
            "8/8 [==============================] - 0s 12ms/step - loss: 1.1401e-04 - accuracy: 1.0000 - val_loss: 0.0492 - val_accuracy: 0.9895\n",
            "Epoch 82/150\n",
            "8/8 [==============================] - 0s 12ms/step - loss: 4.9512e-05 - accuracy: 1.0000 - val_loss: 0.0497 - val_accuracy: 0.9895\n",
            "Epoch 83/150\n",
            "8/8 [==============================] - 0s 12ms/step - loss: 2.2441e-05 - accuracy: 1.0000 - val_loss: 0.0499 - val_accuracy: 0.9895\n",
            "Epoch 84/150\n",
            "8/8 [==============================] - 0s 11ms/step - loss: 5.5105e-05 - accuracy: 1.0000 - val_loss: 0.0506 - val_accuracy: 0.9895\n",
            "Epoch 85/150\n",
            "8/8 [==============================] - 0s 11ms/step - loss: 3.2626e-05 - accuracy: 1.0000 - val_loss: 0.0518 - val_accuracy: 0.9908\n",
            "Epoch 86/150\n",
            "8/8 [==============================] - 0s 13ms/step - loss: 2.3420e-05 - accuracy: 1.0000 - val_loss: 0.0510 - val_accuracy: 0.9895\n",
            "Epoch 87/150\n",
            "8/8 [==============================] - 0s 11ms/step - loss: 1.8472e-05 - accuracy: 1.0000 - val_loss: 0.0515 - val_accuracy: 0.9895\n",
            "Epoch 88/150\n",
            "8/8 [==============================] - 0s 11ms/step - loss: 1.4655e-05 - accuracy: 1.0000 - val_loss: 0.0518 - val_accuracy: 0.9895\n",
            "Epoch 89/150\n",
            "8/8 [==============================] - 0s 12ms/step - loss: 8.5170e-06 - accuracy: 1.0000 - val_loss: 0.0520 - val_accuracy: 0.9895\n",
            "Epoch 90/150\n",
            "8/8 [==============================] - 0s 11ms/step - loss: 2.7325e-05 - accuracy: 1.0000 - val_loss: 0.0523 - val_accuracy: 0.9895\n",
            "Epoch 91/150\n",
            "8/8 [==============================] - 0s 12ms/step - loss: 1.9843e-05 - accuracy: 1.0000 - val_loss: 0.0529 - val_accuracy: 0.9882\n",
            "Epoch 92/150\n",
            "8/8 [==============================] - 0s 12ms/step - loss: 1.5127e-05 - accuracy: 1.0000 - val_loss: 0.0536 - val_accuracy: 0.9882\n",
            "Epoch 93/150\n",
            "8/8 [==============================] - 0s 11ms/step - loss: 8.2861e-06 - accuracy: 1.0000 - val_loss: 0.0536 - val_accuracy: 0.9895\n",
            "Epoch 94/150\n",
            "8/8 [==============================] - 0s 11ms/step - loss: 7.0376e-05 - accuracy: 1.0000 - val_loss: 0.0540 - val_accuracy: 0.9895\n",
            "Epoch 95/150\n",
            "8/8 [==============================] - 0s 14ms/step - loss: 1.0195e-05 - accuracy: 1.0000 - val_loss: 0.0544 - val_accuracy: 0.9895\n",
            "Epoch 96/150\n",
            "8/8 [==============================] - 0s 19ms/step - loss: 3.9447e-05 - accuracy: 1.0000 - val_loss: 0.0550 - val_accuracy: 0.9895\n",
            "Epoch 97/150\n",
            "8/8 [==============================] - 0s 13ms/step - loss: 7.4700e-06 - accuracy: 1.0000 - val_loss: 0.0553 - val_accuracy: 0.9895\n",
            "Epoch 98/150\n",
            "8/8 [==============================] - 0s 12ms/step - loss: 2.0958e-05 - accuracy: 1.0000 - val_loss: 0.0560 - val_accuracy: 0.9895\n",
            "Epoch 99/150\n",
            "8/8 [==============================] - 0s 12ms/step - loss: 1.7628e-05 - accuracy: 1.0000 - val_loss: 0.0567 - val_accuracy: 0.9882\n",
            "Epoch 100/150\n",
            "8/8 [==============================] - 0s 11ms/step - loss: 6.7122e-05 - accuracy: 1.0000 - val_loss: 0.0574 - val_accuracy: 0.9882\n",
            "Epoch 101/150\n",
            "8/8 [==============================] - 0s 11ms/step - loss: 2.2852e-05 - accuracy: 1.0000 - val_loss: 0.0576 - val_accuracy: 0.9882\n",
            "Epoch 102/150\n",
            "8/8 [==============================] - 0s 11ms/step - loss: 2.1172e-05 - accuracy: 1.0000 - val_loss: 0.0580 - val_accuracy: 0.9882\n",
            "Epoch 103/150\n",
            "8/8 [==============================] - 0s 11ms/step - loss: 1.0670e-05 - accuracy: 1.0000 - val_loss: 0.0579 - val_accuracy: 0.9882\n",
            "Epoch 104/150\n",
            "8/8 [==============================] - 0s 11ms/step - loss: 1.1145e-05 - accuracy: 1.0000 - val_loss: 0.0579 - val_accuracy: 0.9882\n",
            "Epoch 105/150\n",
            "8/8 [==============================] - 0s 12ms/step - loss: 8.0991e-06 - accuracy: 1.0000 - val_loss: 0.0585 - val_accuracy: 0.9882\n",
            "Epoch 106/150\n",
            "8/8 [==============================] - 0s 17ms/step - loss: 4.3783e-05 - accuracy: 1.0000 - val_loss: 0.0590 - val_accuracy: 0.9895\n",
            "Epoch 107/150\n",
            "8/8 [==============================] - 0s 11ms/step - loss: 3.5348e-06 - accuracy: 1.0000 - val_loss: 0.0594 - val_accuracy: 0.9895\n",
            "Epoch 108/150\n",
            "8/8 [==============================] - 0s 11ms/step - loss: 3.0709e-06 - accuracy: 1.0000 - val_loss: 0.0593 - val_accuracy: 0.9882\n",
            "Epoch 109/150\n",
            "8/8 [==============================] - 0s 11ms/step - loss: 1.9988e-06 - accuracy: 1.0000 - val_loss: 0.0595 - val_accuracy: 0.9882\n",
            "Epoch 110/150\n",
            "8/8 [==============================] - 0s 12ms/step - loss: 3.8315e-06 - accuracy: 1.0000 - val_loss: 0.0597 - val_accuracy: 0.9882\n",
            "Epoch 111/150\n",
            "8/8 [==============================] - 0s 11ms/step - loss: 3.4204e-06 - accuracy: 1.0000 - val_loss: 0.0601 - val_accuracy: 0.9882\n",
            "Epoch 112/150\n",
            "8/8 [==============================] - 0s 10ms/step - loss: 6.3293e-06 - accuracy: 1.0000 - val_loss: 0.0606 - val_accuracy: 0.9895\n",
            "Epoch 113/150\n",
            "8/8 [==============================] - 0s 12ms/step - loss: 9.1175e-06 - accuracy: 1.0000 - val_loss: 0.0609 - val_accuracy: 0.9882\n",
            "Epoch 114/150\n",
            "8/8 [==============================] - 0s 11ms/step - loss: 2.5322e-06 - accuracy: 1.0000 - val_loss: 0.0617 - val_accuracy: 0.9895\n",
            "Epoch 115/150\n",
            "8/8 [==============================] - 0s 12ms/step - loss: 9.9711e-06 - accuracy: 1.0000 - val_loss: 0.0619 - val_accuracy: 0.9895\n",
            "Epoch 116/150\n",
            "8/8 [==============================] - 0s 12ms/step - loss: 3.8100e-06 - accuracy: 1.0000 - val_loss: 0.0621 - val_accuracy: 0.9895\n",
            "Epoch 117/150\n",
            "8/8 [==============================] - 0s 12ms/step - loss: 1.7735e-06 - accuracy: 1.0000 - val_loss: 0.0621 - val_accuracy: 0.9895\n",
            "Epoch 118/150\n",
            "8/8 [==============================] - 0s 12ms/step - loss: 8.3900e-07 - accuracy: 1.0000 - val_loss: 0.0624 - val_accuracy: 0.9895\n",
            "Epoch 119/150\n",
            "8/8 [==============================] - 0s 11ms/step - loss: 5.1055e-06 - accuracy: 1.0000 - val_loss: 0.0631 - val_accuracy: 0.9895\n",
            "Epoch 120/150\n",
            "8/8 [==============================] - 0s 11ms/step - loss: 2.8676e-06 - accuracy: 1.0000 - val_loss: 0.0634 - val_accuracy: 0.9882\n",
            "Epoch 121/150\n",
            "8/8 [==============================] - 0s 11ms/step - loss: 2.2852e-06 - accuracy: 1.0000 - val_loss: 0.0648 - val_accuracy: 0.9908\n",
            "Epoch 122/150\n",
            "8/8 [==============================] - 0s 11ms/step - loss: 2.1618e-06 - accuracy: 1.0000 - val_loss: 0.0648 - val_accuracy: 0.9895\n",
            "Epoch 123/150\n",
            "8/8 [==============================] - 0s 12ms/step - loss: 1.4454e-06 - accuracy: 1.0000 - val_loss: 0.0652 - val_accuracy: 0.9895\n",
            "Epoch 124/150\n",
            "8/8 [==============================] - 0s 11ms/step - loss: 2.2782e-06 - accuracy: 1.0000 - val_loss: 0.0662 - val_accuracy: 0.9908\n",
            "Epoch 125/150\n",
            "8/8 [==============================] - 0s 12ms/step - loss: 8.1715e-06 - accuracy: 1.0000 - val_loss: 0.0661 - val_accuracy: 0.9895\n",
            "Epoch 126/150\n",
            "8/8 [==============================] - 0s 12ms/step - loss: 3.1100e-07 - accuracy: 1.0000 - val_loss: 0.0662 - val_accuracy: 0.9895\n",
            "Epoch 127/150\n",
            "8/8 [==============================] - 0s 13ms/step - loss: 4.3160e-07 - accuracy: 1.0000 - val_loss: 0.0663 - val_accuracy: 0.9895\n",
            "Epoch 128/150\n",
            "8/8 [==============================] - 0s 12ms/step - loss: 1.0215e-06 - accuracy: 1.0000 - val_loss: 0.0666 - val_accuracy: 0.9895\n",
            "Epoch 129/150\n",
            "8/8 [==============================] - 0s 12ms/step - loss: 7.2982e-07 - accuracy: 1.0000 - val_loss: 0.0669 - val_accuracy: 0.9895\n",
            "Epoch 130/150\n",
            "8/8 [==============================] - 0s 12ms/step - loss: 1.4896e-06 - accuracy: 1.0000 - val_loss: 0.0674 - val_accuracy: 0.9895\n",
            "Epoch 131/150\n",
            "8/8 [==============================] - 0s 11ms/step - loss: 4.3636e-07 - accuracy: 1.0000 - val_loss: 0.0677 - val_accuracy: 0.9882\n",
            "Epoch 132/150\n",
            "8/8 [==============================] - 0s 12ms/step - loss: 6.0815e-07 - accuracy: 1.0000 - val_loss: 0.0682 - val_accuracy: 0.9895\n",
            "Epoch 133/150\n",
            "8/8 [==============================] - 0s 14ms/step - loss: 4.8498e-06 - accuracy: 1.0000 - val_loss: 0.0685 - val_accuracy: 0.9895\n",
            "Epoch 134/150\n",
            "8/8 [==============================] - 0s 11ms/step - loss: 2.8784e-06 - accuracy: 1.0000 - val_loss: 0.0689 - val_accuracy: 0.9882\n",
            "Epoch 135/150\n",
            "8/8 [==============================] - 0s 11ms/step - loss: 2.1990e-06 - accuracy: 1.0000 - val_loss: 0.0688 - val_accuracy: 0.9882\n",
            "Epoch 136/150\n",
            "8/8 [==============================] - 0s 11ms/step - loss: 5.7585e-07 - accuracy: 1.0000 - val_loss: 0.0690 - val_accuracy: 0.9882\n",
            "Epoch 137/150\n",
            "8/8 [==============================] - 0s 12ms/step - loss: 6.2644e-07 - accuracy: 1.0000 - val_loss: 0.0695 - val_accuracy: 0.9882\n",
            "Epoch 138/150\n",
            "8/8 [==============================] - 0s 12ms/step - loss: 1.6878e-06 - accuracy: 1.0000 - val_loss: 0.0700 - val_accuracy: 0.9895\n",
            "Epoch 139/150\n",
            "8/8 [==============================] - 0s 12ms/step - loss: 1.3753e-06 - accuracy: 1.0000 - val_loss: 0.0707 - val_accuracy: 0.9895\n",
            "Epoch 140/150\n",
            "8/8 [==============================] - 0s 11ms/step - loss: 6.7766e-07 - accuracy: 1.0000 - val_loss: 0.0713 - val_accuracy: 0.9895\n",
            "Epoch 141/150\n",
            "8/8 [==============================] - 0s 11ms/step - loss: 6.9975e-07 - accuracy: 1.0000 - val_loss: 0.0718 - val_accuracy: 0.9895\n",
            "Epoch 142/150\n",
            "8/8 [==============================] - 0s 11ms/step - loss: 1.7031e-06 - accuracy: 1.0000 - val_loss: 0.0733 - val_accuracy: 0.9895\n",
            "Epoch 143/150\n",
            "8/8 [==============================] - 0s 12ms/step - loss: 1.3650e-06 - accuracy: 1.0000 - val_loss: 0.0726 - val_accuracy: 0.9895\n",
            "Epoch 144/150\n",
            "8/8 [==============================] - 0s 11ms/step - loss: 1.1757e-05 - accuracy: 1.0000 - val_loss: 0.0734 - val_accuracy: 0.9895\n",
            "Epoch 145/150\n",
            "8/8 [==============================] - 0s 11ms/step - loss: 6.3841e-07 - accuracy: 1.0000 - val_loss: 0.0742 - val_accuracy: 0.9895\n",
            "Epoch 146/150\n",
            "8/8 [==============================] - 0s 12ms/step - loss: 2.8587e-07 - accuracy: 1.0000 - val_loss: 0.0745 - val_accuracy: 0.9895\n",
            "Epoch 147/150\n",
            "8/8 [==============================] - 0s 11ms/step - loss: 2.6779e-07 - accuracy: 1.0000 - val_loss: 0.0751 - val_accuracy: 0.9895\n",
            "Epoch 148/150\n",
            "8/8 [==============================] - 0s 13ms/step - loss: 1.0593e-06 - accuracy: 1.0000 - val_loss: 0.0767 - val_accuracy: 0.9882\n",
            "Epoch 149/150\n",
            "8/8 [==============================] - 0s 11ms/step - loss: 5.7749e-07 - accuracy: 1.0000 - val_loss: 0.0758 - val_accuracy: 0.9895\n",
            "Epoch 150/150\n",
            "8/8 [==============================] - 0s 11ms/step - loss: 6.7906e-07 - accuracy: 1.0000 - val_loss: 0.0750 - val_accuracy: 0.9895\n"
          ]
        }
      ]
    },
    {
      "cell_type": "code",
      "source": [
        "history = history.history\n",
        "\n",
        "fig = plt.figure(figsize=(20, 10))\n",
        "\n",
        "ax1 = fig.add_subplot(221)\n",
        "ax2 = fig.add_subplot(223)\n",
        "\n",
        "x = range(epochs)\n",
        "\n",
        "ax1.plot(x, history['accuracy'], 'b-', label='Accuracy')\n",
        "ax1.plot(x, history['val_accuracy'], 'r-', label='Validation accuracy')\n",
        "ax1.legend(loc='lower right')\n",
        "\n",
        "ax2.plot(x, history['loss'], 'b-', label='Losses')\n",
        "ax2.plot(x, history['val_loss'], 'r-', label='Validation losses')\n",
        "ax2.legend(loc='upper right')"
      ],
      "metadata": {
        "colab": {
          "base_uri": "https://localhost:8080/",
          "height": 611
        },
        "id": "_HHzlnuL5yA3",
        "outputId": "f6afc58d-b392-4c43-e187-fe65ca6a81e8"
      },
      "execution_count": 211,
      "outputs": [
        {
          "output_type": "execute_result",
          "data": {
            "text/plain": [
              "<matplotlib.legend.Legend at 0x7f3f9be57c50>"
            ]
          },
          "metadata": {},
          "execution_count": 211
        },
        {
          "output_type": "display_data",
          "data": {
            "text/plain": [
              "<Figure size 1440x720 with 2 Axes>"
            ],
            "image/png": "[encoded data removed]"
          },
          "metadata": {
            "needs_background": "light"
          }
        }
      ]
    },
    {
      "cell_type": "code",
      "source": [
        "eps = 0.00001"
      ],
      "metadata": {
        "id": "U7DKQ5b5MhxS"
      },
      "execution_count": 229,
      "outputs": []
    },
    {
      "cell_type": "code",
      "source": [
        "\n",
        "result = model.predict(X);\n"
      ],
      "metadata": {
        "id": "KFhoBtX0Jz5M"
      },
      "execution_count": 215,
      "outputs": []
    },
    {
      "cell_type": "code",
      "source": [
        "for i in range(150):\n",
        "  if (abs(result[i]-y[i]) > eps):\n",
        "    print(result[i])\n",
        "    print(y[i])\n",
        "    print(text_test[i])"
      ],
      "metadata": {
        "id": "i0ERVgcXMk6m"
      },
      "execution_count": 230,
      "outputs": []
    },
    {
      "cell_type": "code",
      "source": [
        "model.save('/Neuronka/')"
      ],
      "metadata": {
        "colab": {
          "base_uri": "https://localhost:8080/"
        },
        "id": "3fDU6Ot-QFRt",
        "outputId": "795cbc14-2eec-4ddd-cd2e-bd8f6d43e93e"
      },
      "execution_count": 232,
      "outputs": [
        {
          "output_type": "stream",
          "name": "stdout",
          "text": [
            "INFO:tensorflow:Assets written to: /Neuronka/assets\n"
          ]
        }
      ]
    }
  ]
}